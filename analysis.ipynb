{
 "cells": [
  {
   "cell_type": "markdown",
   "metadata": {},
   "source": [
    "## Distribution of editing efficiency"
   ]
  },
  {
   "cell_type": "markdown",
   "metadata": {
    "vscode": {
     "languageId": "plaintext"
    }
   },
   "source": [
    "### PRIDICT\n",
    "\n",
    "The dataset of pridict-1 has 90k examples"
   ]
  },
  {
   "cell_type": "code",
   "execution_count": 1,
   "metadata": {},
   "outputs": [],
   "source": [
    "from os.path import join as pjoin\n",
    "\n",
    "import pandas as pd\n",
    "import numpy as np\n",
    "import matplotlib.pyplot as plt\n",
    "import seaborn as sns\n",
    "\n",
    "# Load the data\n",
    "path = pjoin('data', 'pridict-90k.csv')\n",
    "df = pd.read_csv(path)\n",
    "\n",
    "efficiency_col = 'averageedited'\n",
    "df = df[df[efficiency_col].notnull()]\n",
    "\n",
    "# Plot the data\n",
    "sns.set(style='whitegrid')\n",
    "sns.set_context('talk')\n",
    "plt.figure(figsize=(8, 6))\n",
    "sns.histplot(df[efficiency_col], bins=20, kde=True)\n",
    "plt.xlabel('Efficiency')\n",
    "plt.ylabel('Frequency')\n",
    "plt.title('Distribution of efficiency')\n",
    "plt.show()"
   ]
  }
 ],
 "metadata": {
  "kernelspec": {
   "display_name": "dl",
   "language": "python",
   "name": "python3"
  },
  "language_info": {
   "codemirror_mode": {
    "name": "ipython",
    "version": 3
   },
   "file_extension": ".py",
   "mimetype": "text/x-python",
   "name": "python",
   "nbconvert_exporter": "python",
   "pygments_lexer": "ipython3",
   "version": "3.11.7"
  }
 },
 "nbformat": 4,
 "nbformat_minor": 2
}
